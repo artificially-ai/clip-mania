{
 "cells": [
  {
   "cell_type": "code",
   "execution_count": 1,
   "id": "4a80f734",
   "metadata": {},
   "outputs": [],
   "source": [
    "import pandas as pd\n",
    "\n",
    "import numpy as np\n",
    "\n",
    "from sklearn.metrics import roc_auc_score, confusion_matrix, classification_report\n",
    "\n",
    "import seaborn as sn\n",
    "import matplotlib.pyplot as plt\n",
    "\n",
    "%matplotlib inline  "
   ]
  },
  {
   "cell_type": "code",
   "execution_count": 2,
   "id": "f947b5de",
   "metadata": {},
   "outputs": [
    {
     "data": {
      "text/html": [
       "<div>\n",
       "<style scoped>\n",
       "    .dataframe tbody tr th:only-of-type {\n",
       "        vertical-align: middle;\n",
       "    }\n",
       "\n",
       "    .dataframe tbody tr th {\n",
       "        vertical-align: top;\n",
       "    }\n",
       "\n",
       "    .dataframe thead th {\n",
       "        text-align: right;\n",
       "    }\n",
       "</style>\n",
       "<table border=\"1\" class=\"dataframe\">\n",
       "  <thead>\n",
       "    <tr style=\"text-align: right;\">\n",
       "      <th></th>\n",
       "      <th>y</th>\n",
       "      <th>y_hat</th>\n",
       "      <th>predicted_prompt</th>\n",
       "      <th>probability</th>\n",
       "    </tr>\n",
       "  </thead>\n",
       "  <tbody>\n",
       "    <tr>\n",
       "      <th>0</th>\n",
       "      <td>0</td>\n",
       "      <td>[0.69189453, 0.042877197, 0.0078086853, 0.0567...</td>\n",
       "      <td>This is a picture of a(n) boat.</td>\n",
       "      <td>0.691895</td>\n",
       "    </tr>\n",
       "    <tr>\n",
       "      <th>1</th>\n",
       "      <td>0</td>\n",
       "      <td>[0.9975586, 0.00011384487, 0.0003733635, 0.000...</td>\n",
       "      <td>This is a picture of a(n) boat.</td>\n",
       "      <td>0.997559</td>\n",
       "    </tr>\n",
       "    <tr>\n",
       "      <th>2</th>\n",
       "      <td>0</td>\n",
       "      <td>[0.92089844, 0.0014286041, 0.00078868866, 0.01...</td>\n",
       "      <td>This is a picture of a(n) boat.</td>\n",
       "      <td>0.920898</td>\n",
       "    </tr>\n",
       "    <tr>\n",
       "      <th>3</th>\n",
       "      <td>0</td>\n",
       "      <td>[0.94091797, 0.0027256012, 0.0016536713, 0.005...</td>\n",
       "      <td>This is a picture of a(n) boat.</td>\n",
       "      <td>0.940918</td>\n",
       "    </tr>\n",
       "    <tr>\n",
       "      <th>4</th>\n",
       "      <td>0</td>\n",
       "      <td>[0.9975586, 0.00048685074, 0.00015079975, 0.00...</td>\n",
       "      <td>This is a picture of a(n) boat.</td>\n",
       "      <td>0.997559</td>\n",
       "    </tr>\n",
       "  </tbody>\n",
       "</table>\n",
       "</div>"
      ],
      "text/plain": [
       "   y                                              y_hat  \\\n",
       "0  0  [0.69189453, 0.042877197, 0.0078086853, 0.0567...   \n",
       "1  0  [0.9975586, 0.00011384487, 0.0003733635, 0.000...   \n",
       "2  0  [0.92089844, 0.0014286041, 0.00078868866, 0.01...   \n",
       "3  0  [0.94091797, 0.0027256012, 0.0016536713, 0.005...   \n",
       "4  0  [0.9975586, 0.00048685074, 0.00015079975, 0.00...   \n",
       "\n",
       "                  predicted_prompt  probability  \n",
       "0  This is a picture of a(n) boat.     0.691895  \n",
       "1  This is a picture of a(n) boat.     0.997559  \n",
       "2  This is a picture of a(n) boat.     0.920898  \n",
       "3  This is a picture of a(n) boat.     0.940918  \n",
       "4  This is a picture of a(n) boat.     0.997559  "
      ]
     },
     "execution_count": 2,
     "metadata": {},
     "output_type": "execute_result"
    }
   ],
   "source": [
    "results_df = pd.read_pickle(\"../inference_results.pk\")\n",
    "results_df.head()"
   ]
  },
  {
   "cell_type": "code",
   "execution_count": 3,
   "id": "b4b60e5c",
   "metadata": {},
   "outputs": [
    {
     "name": "stdout",
     "output_type": "stream",
     "text": [
      "Model AUC score is '0.991769993480822'\n"
     ]
    }
   ],
   "source": [
    "n_classes = 8\n",
    "\n",
    "y, y_hat = results_df[\"y\"].values, results_df[\"y_hat\"].values\n",
    "\n",
    "y_hat = np.array(list(y_hat), dtype=np.float64)\n",
    "\n",
    "for i, _ in enumerate(y_hat):\n",
    "    norm = 1 / np.sum(y_hat[i])\n",
    "    y_hat[i] = y_hat[i] * norm\n",
    "\n",
    "auc_score = roc_auc_score(y, y_hat, multi_class='ovo')\n",
    "print(f\"Model AUC score is '{auc_score}'\")"
   ]
  },
  {
   "cell_type": "code",
   "execution_count": 4,
   "id": "a69bf1a2",
   "metadata": {},
   "outputs": [
    {
     "name": "stdout",
     "output_type": "stream",
     "text": [
      "              precision    recall  f1-score   support\n",
      "\n",
      "        boat       1.00      0.94      0.97        79\n",
      "    airplane       0.98      0.98      0.98        60\n",
      "  motorcycle       0.96      0.98      0.97        54\n",
      "         bus       0.79      0.94      0.86        69\n",
      "       truck       0.83      0.73      0.78        81\n",
      "     bicycle       0.96      0.98      0.97        46\n",
      "         car       0.71      0.64      0.67        47\n",
      "       train       0.90      0.97      0.94        67\n",
      "\n",
      "    accuracy                           0.89       503\n",
      "   macro avg       0.89      0.89      0.89       503\n",
      "weighted avg       0.89      0.89      0.89       503\n",
      "\n"
     ]
    }
   ],
   "source": [
    "class_pred = [np.argmax(y_hat[i]) for i, _ in enumerate(y_hat)]\n",
    "classes = ['boat', 'airplane', 'motorcycle', 'bus', 'truck', 'bicycle', 'car', 'train']\n",
    "print(classification_report(y, class_pred, target_names=classes))"
   ]
  },
  {
   "cell_type": "code",
   "execution_count": 5,
   "id": "d1791b51",
   "metadata": {},
   "outputs": [],
   "source": [
    "confusion_matrix = confusion_matrix(y, class_pred)"
   ]
  },
  {
   "cell_type": "code",
   "execution_count": 6,
   "id": "fefd6cef",
   "metadata": {},
   "outputs": [
    {
     "data": {
      "image/png": "[encoded data removed]",
      "text/plain": [
       "<Figure size 1080x720 with 2 Axes>"
      ]
     },
     "metadata": {
      "needs_background": "light"
     },
     "output_type": "display_data"
    }
   ],
   "source": [
    "confusion_matrix_df = pd.DataFrame(confusion_matrix, classes, range(n_classes))\n",
    "plt.figure(figsize=(15, 10))\n",
    "sn.set(font_scale=1.5)\n",
    "sn.heatmap(confusion_matrix_df, annot=True, annot_kws={\"size\": 15})\n",
    "\n",
    "plt.show()"
   ]
  },
  {
   "cell_type": "code",
   "execution_count": null,
   "id": "c448bd2b",
   "metadata": {},
   "outputs": [],
   "source": []
  }
 ],
 "metadata": {
  "kernelspec": {
   "display_name": "Python 3",
   "language": "python",
   "name": "python3"
  },
  "language_info": {
   "codemirror_mode": {
    "name": "ipython",
    "version": 3
   },
   "file_extension": ".py",
   "mimetype": "text/x-python",
   "name": "python",
   "nbconvert_exporter": "python",
   "pygments_lexer": "ipython3",
   "version": "3.8.10"
  }
 },
 "nbformat": 4,
 "nbformat_minor": 5
}
